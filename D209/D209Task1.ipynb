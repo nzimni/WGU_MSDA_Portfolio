{
 "cells": [
  {
   "cell_type": "code",
   "execution_count": 84,
   "id": "6f9a9a8e-4184-4b99-a849-c85ac90882a5",
   "metadata": {},
   "outputs": [
    {
     "name": "stdout",
     "output_type": "stream",
     "text": [
      "<class 'pandas.core.frame.DataFrame'>\n",
      "Index: 10000 entries, 1 to 10000\n",
      "Data columns (total 49 columns):\n",
      " #   Column              Non-Null Count  Dtype  \n",
      "---  ------              --------------  -----  \n",
      " 0   Customer_id         10000 non-null  object \n",
      " 1   Interaction         10000 non-null  object \n",
      " 2   UID                 10000 non-null  object \n",
      " 3   City                10000 non-null  object \n",
      " 4   State               10000 non-null  object \n",
      " 5   County              10000 non-null  object \n",
      " 6   Zip                 10000 non-null  int64  \n",
      " 7   Lat                 10000 non-null  float64\n",
      " 8   Lng                 10000 non-null  float64\n",
      " 9   Population          10000 non-null  int64  \n",
      " 10  Area                10000 non-null  object \n",
      " 11  TimeZone            10000 non-null  object \n",
      " 12  Job                 10000 non-null  object \n",
      " 13  Children            10000 non-null  int64  \n",
      " 14  Age                 10000 non-null  int64  \n",
      " 15  Income              10000 non-null  float64\n",
      " 16  Marital             10000 non-null  object \n",
      " 17  Gender              10000 non-null  object \n",
      " 18  ReAdmis             10000 non-null  object \n",
      " 19  VitD_levels         10000 non-null  float64\n",
      " 20  Doc_visits          10000 non-null  int64  \n",
      " 21  Full_meals_eaten    10000 non-null  int64  \n",
      " 22  vitD_supp           10000 non-null  int64  \n",
      " 23  Soft_drink          10000 non-null  object \n",
      " 24  Initial_admin       10000 non-null  object \n",
      " 25  HighBlood           10000 non-null  object \n",
      " 26  Stroke              10000 non-null  object \n",
      " 27  Complication_risk   10000 non-null  object \n",
      " 28  Overweight          10000 non-null  object \n",
      " 29  Arthritis           10000 non-null  object \n",
      " 30  Diabetes            10000 non-null  object \n",
      " 31  Hyperlipidemia      10000 non-null  object \n",
      " 32  BackPain            10000 non-null  object \n",
      " 33  Anxiety             10000 non-null  object \n",
      " 34  Allergic_rhinitis   10000 non-null  object \n",
      " 35  Reflux_esophagitis  10000 non-null  object \n",
      " 36  Asthma              10000 non-null  object \n",
      " 37  Services            10000 non-null  object \n",
      " 38  Initial_days        10000 non-null  float64\n",
      " 39  TotalCharge         10000 non-null  float64\n",
      " 40  Additional_charges  10000 non-null  float64\n",
      " 41  Item1               10000 non-null  int64  \n",
      " 42  Item2               10000 non-null  int64  \n",
      " 43  Item3               10000 non-null  int64  \n",
      " 44  Item4               10000 non-null  int64  \n",
      " 45  Item5               10000 non-null  int64  \n",
      " 46  Item6               10000 non-null  int64  \n",
      " 47  Item7               10000 non-null  int64  \n",
      " 48  Item8               10000 non-null  int64  \n",
      "dtypes: float64(7), int64(15), object(27)\n",
      "memory usage: 3.8+ MB\n"
     ]
    }
   ],
   "source": [
    "#import packages and libraries\n",
    "import pandas as pd\n",
    "from pandas.api.types import CategoricalDtype\n",
    "import numpy as np\n",
    "import matplotlib.pyplot as plt\n",
    "import seaborn as sns\n",
    "from scipy import stats\n",
    "import statsmodels.api as sm\n",
    "from statsmodels.stats.outliers_influence import variance_inflation_factor\n",
    "from statsmodels.graphics.mosaicplot import mosaic\n",
    "from sklearn.model_selection import train_test_split\n",
    "from sklearn import preprocessing\n",
    "from sklearn.feature_selection import SelectKBest, f_classif\n",
    "from sklearn.neighbors import KNeighborsClassifier\n",
    "from sklearn.model_selection import GridSearchCV\n",
    "from sklearn.metrics import confusion_matrix\n",
    "from sklearn.metrics import roc_auc_score\n",
    "from sklearn.metrics import roc_curve\n",
    "from sklearn.metrics import classification_report\n",
    "\n",
    "\n",
    "# The CSV's first column is an index and Pandas will duplicate this and create an column without 'index_col=0'\n",
    "df = pd.read_csv('medical_clean.csv', index_col=0)\n",
    "# Check data types and number of values, as well as overall size of dataframe\n",
    "df.info()\n"
   ]
  },
  {
   "cell_type": "code",
   "execution_count": 85,
   "id": "1472f1f1-92b9-4138-b4bf-04f01f7745c0",
   "metadata": {},
   "outputs": [
    {
     "data": {
      "text/html": [
       "<div>\n",
       "<style scoped>\n",
       "    .dataframe tbody tr th:only-of-type {\n",
       "        vertical-align: middle;\n",
       "    }\n",
       "\n",
       "    .dataframe tbody tr th {\n",
       "        vertical-align: top;\n",
       "    }\n",
       "\n",
       "    .dataframe thead th {\n",
       "        text-align: right;\n",
       "    }\n",
       "</style>\n",
       "<table border=\"1\" class=\"dataframe\">\n",
       "  <thead>\n",
       "    <tr style=\"text-align: right;\">\n",
       "      <th></th>\n",
       "      <th>Area</th>\n",
       "      <th>Age</th>\n",
       "      <th>Gender</th>\n",
       "      <th>ReAdmis</th>\n",
       "      <th>VitD_levels</th>\n",
       "      <th>Initial_admin</th>\n",
       "      <th>HighBlood</th>\n",
       "      <th>Stroke</th>\n",
       "      <th>Complication_risk</th>\n",
       "      <th>Overweight</th>\n",
       "      <th>Arthritis</th>\n",
       "      <th>Diabetes</th>\n",
       "      <th>Hyperlipidemia</th>\n",
       "      <th>BackPain</th>\n",
       "      <th>Services</th>\n",
       "      <th>Initial_days</th>\n",
       "      <th>Additional_charges</th>\n",
       "    </tr>\n",
       "    <tr>\n",
       "      <th>CaseOrder</th>\n",
       "      <th></th>\n",
       "      <th></th>\n",
       "      <th></th>\n",
       "      <th></th>\n",
       "      <th></th>\n",
       "      <th></th>\n",
       "      <th></th>\n",
       "      <th></th>\n",
       "      <th></th>\n",
       "      <th></th>\n",
       "      <th></th>\n",
       "      <th></th>\n",
       "      <th></th>\n",
       "      <th></th>\n",
       "      <th></th>\n",
       "      <th></th>\n",
       "      <th></th>\n",
       "    </tr>\n",
       "  </thead>\n",
       "  <tbody>\n",
       "    <tr>\n",
       "      <th>1</th>\n",
       "      <td>Suburban</td>\n",
       "      <td>53</td>\n",
       "      <td>Male</td>\n",
       "      <td>No</td>\n",
       "      <td>19.141466</td>\n",
       "      <td>Emergency Admission</td>\n",
       "      <td>Yes</td>\n",
       "      <td>No</td>\n",
       "      <td>Medium</td>\n",
       "      <td>No</td>\n",
       "      <td>Yes</td>\n",
       "      <td>Yes</td>\n",
       "      <td>No</td>\n",
       "      <td>Yes</td>\n",
       "      <td>Blood Work</td>\n",
       "      <td>10.585770</td>\n",
       "      <td>17939.403420</td>\n",
       "    </tr>\n",
       "    <tr>\n",
       "      <th>2</th>\n",
       "      <td>Urban</td>\n",
       "      <td>51</td>\n",
       "      <td>Female</td>\n",
       "      <td>No</td>\n",
       "      <td>18.940352</td>\n",
       "      <td>Emergency Admission</td>\n",
       "      <td>Yes</td>\n",
       "      <td>No</td>\n",
       "      <td>High</td>\n",
       "      <td>Yes</td>\n",
       "      <td>No</td>\n",
       "      <td>No</td>\n",
       "      <td>No</td>\n",
       "      <td>No</td>\n",
       "      <td>Intravenous</td>\n",
       "      <td>15.129562</td>\n",
       "      <td>17612.998120</td>\n",
       "    </tr>\n",
       "    <tr>\n",
       "      <th>3</th>\n",
       "      <td>Suburban</td>\n",
       "      <td>53</td>\n",
       "      <td>Female</td>\n",
       "      <td>No</td>\n",
       "      <td>18.057507</td>\n",
       "      <td>Elective Admission</td>\n",
       "      <td>Yes</td>\n",
       "      <td>No</td>\n",
       "      <td>Medium</td>\n",
       "      <td>Yes</td>\n",
       "      <td>No</td>\n",
       "      <td>Yes</td>\n",
       "      <td>No</td>\n",
       "      <td>No</td>\n",
       "      <td>Blood Work</td>\n",
       "      <td>4.772177</td>\n",
       "      <td>17505.192460</td>\n",
       "    </tr>\n",
       "    <tr>\n",
       "      <th>4</th>\n",
       "      <td>Suburban</td>\n",
       "      <td>78</td>\n",
       "      <td>Male</td>\n",
       "      <td>No</td>\n",
       "      <td>16.576858</td>\n",
       "      <td>Elective Admission</td>\n",
       "      <td>No</td>\n",
       "      <td>Yes</td>\n",
       "      <td>Medium</td>\n",
       "      <td>No</td>\n",
       "      <td>Yes</td>\n",
       "      <td>No</td>\n",
       "      <td>No</td>\n",
       "      <td>No</td>\n",
       "      <td>Blood Work</td>\n",
       "      <td>1.714879</td>\n",
       "      <td>12993.437350</td>\n",
       "    </tr>\n",
       "    <tr>\n",
       "      <th>5</th>\n",
       "      <td>Rural</td>\n",
       "      <td>22</td>\n",
       "      <td>Female</td>\n",
       "      <td>No</td>\n",
       "      <td>17.439069</td>\n",
       "      <td>Elective Admission</td>\n",
       "      <td>No</td>\n",
       "      <td>No</td>\n",
       "      <td>Low</td>\n",
       "      <td>No</td>\n",
       "      <td>No</td>\n",
       "      <td>No</td>\n",
       "      <td>Yes</td>\n",
       "      <td>No</td>\n",
       "      <td>CT Scan</td>\n",
       "      <td>1.254807</td>\n",
       "      <td>3716.525786</td>\n",
       "    </tr>\n",
       "    <tr>\n",
       "      <th>...</th>\n",
       "      <td>...</td>\n",
       "      <td>...</td>\n",
       "      <td>...</td>\n",
       "      <td>...</td>\n",
       "      <td>...</td>\n",
       "      <td>...</td>\n",
       "      <td>...</td>\n",
       "      <td>...</td>\n",
       "      <td>...</td>\n",
       "      <td>...</td>\n",
       "      <td>...</td>\n",
       "      <td>...</td>\n",
       "      <td>...</td>\n",
       "      <td>...</td>\n",
       "      <td>...</td>\n",
       "      <td>...</td>\n",
       "      <td>...</td>\n",
       "    </tr>\n",
       "    <tr>\n",
       "      <th>9996</th>\n",
       "      <td>Urban</td>\n",
       "      <td>25</td>\n",
       "      <td>Male</td>\n",
       "      <td>No</td>\n",
       "      <td>16.980860</td>\n",
       "      <td>Emergency Admission</td>\n",
       "      <td>Yes</td>\n",
       "      <td>No</td>\n",
       "      <td>Medium</td>\n",
       "      <td>No</td>\n",
       "      <td>No</td>\n",
       "      <td>No</td>\n",
       "      <td>No</td>\n",
       "      <td>No</td>\n",
       "      <td>Intravenous</td>\n",
       "      <td>51.561220</td>\n",
       "      <td>8927.642000</td>\n",
       "    </tr>\n",
       "    <tr>\n",
       "      <th>9997</th>\n",
       "      <td>Urban</td>\n",
       "      <td>87</td>\n",
       "      <td>Male</td>\n",
       "      <td>Yes</td>\n",
       "      <td>18.177020</td>\n",
       "      <td>Elective Admission</td>\n",
       "      <td>Yes</td>\n",
       "      <td>No</td>\n",
       "      <td>Medium</td>\n",
       "      <td>Yes</td>\n",
       "      <td>Yes</td>\n",
       "      <td>Yes</td>\n",
       "      <td>No</td>\n",
       "      <td>No</td>\n",
       "      <td>CT Scan</td>\n",
       "      <td>68.668240</td>\n",
       "      <td>28507.150000</td>\n",
       "    </tr>\n",
       "    <tr>\n",
       "      <th>9998</th>\n",
       "      <td>Rural</td>\n",
       "      <td>45</td>\n",
       "      <td>Female</td>\n",
       "      <td>Yes</td>\n",
       "      <td>17.129070</td>\n",
       "      <td>Elective Admission</td>\n",
       "      <td>Yes</td>\n",
       "      <td>No</td>\n",
       "      <td>High</td>\n",
       "      <td>Yes</td>\n",
       "      <td>No</td>\n",
       "      <td>No</td>\n",
       "      <td>No</td>\n",
       "      <td>No</td>\n",
       "      <td>Intravenous</td>\n",
       "      <td>70.154180</td>\n",
       "      <td>15281.210000</td>\n",
       "    </tr>\n",
       "    <tr>\n",
       "      <th>9999</th>\n",
       "      <td>Rural</td>\n",
       "      <td>43</td>\n",
       "      <td>Male</td>\n",
       "      <td>Yes</td>\n",
       "      <td>19.910430</td>\n",
       "      <td>Emergency Admission</td>\n",
       "      <td>No</td>\n",
       "      <td>No</td>\n",
       "      <td>Medium</td>\n",
       "      <td>Yes</td>\n",
       "      <td>No</td>\n",
       "      <td>No</td>\n",
       "      <td>No</td>\n",
       "      <td>Yes</td>\n",
       "      <td>Blood Work</td>\n",
       "      <td>63.356900</td>\n",
       "      <td>7781.678000</td>\n",
       "    </tr>\n",
       "    <tr>\n",
       "      <th>10000</th>\n",
       "      <td>Urban</td>\n",
       "      <td>70</td>\n",
       "      <td>Female</td>\n",
       "      <td>Yes</td>\n",
       "      <td>18.388620</td>\n",
       "      <td>Observation Admission</td>\n",
       "      <td>No</td>\n",
       "      <td>No</td>\n",
       "      <td>Low</td>\n",
       "      <td>Yes</td>\n",
       "      <td>Yes</td>\n",
       "      <td>No</td>\n",
       "      <td>Yes</td>\n",
       "      <td>No</td>\n",
       "      <td>Blood Work</td>\n",
       "      <td>70.850590</td>\n",
       "      <td>11643.190000</td>\n",
       "    </tr>\n",
       "  </tbody>\n",
       "</table>\n",
       "<p>10000 rows × 17 columns</p>\n",
       "</div>"
      ],
      "text/plain": [
       "               Area  Age  Gender ReAdmis  VitD_levels          Initial_admin  \\\n",
       "CaseOrder                                                                      \n",
       "1          Suburban   53    Male      No    19.141466    Emergency Admission   \n",
       "2             Urban   51  Female      No    18.940352    Emergency Admission   \n",
       "3          Suburban   53  Female      No    18.057507     Elective Admission   \n",
       "4          Suburban   78    Male      No    16.576858     Elective Admission   \n",
       "5             Rural   22  Female      No    17.439069     Elective Admission   \n",
       "...             ...  ...     ...     ...          ...                    ...   \n",
       "9996          Urban   25    Male      No    16.980860    Emergency Admission   \n",
       "9997          Urban   87    Male     Yes    18.177020     Elective Admission   \n",
       "9998          Rural   45  Female     Yes    17.129070     Elective Admission   \n",
       "9999          Rural   43    Male     Yes    19.910430    Emergency Admission   \n",
       "10000         Urban   70  Female     Yes    18.388620  Observation Admission   \n",
       "\n",
       "          HighBlood Stroke Complication_risk Overweight Arthritis Diabetes  \\\n",
       "CaseOrder                                                                    \n",
       "1               Yes     No            Medium         No       Yes      Yes   \n",
       "2               Yes     No              High        Yes        No       No   \n",
       "3               Yes     No            Medium        Yes        No      Yes   \n",
       "4                No    Yes            Medium         No       Yes       No   \n",
       "5                No     No               Low         No        No       No   \n",
       "...             ...    ...               ...        ...       ...      ...   \n",
       "9996            Yes     No            Medium         No        No       No   \n",
       "9997            Yes     No            Medium        Yes       Yes      Yes   \n",
       "9998            Yes     No              High        Yes        No       No   \n",
       "9999             No     No            Medium        Yes        No       No   \n",
       "10000            No     No               Low        Yes       Yes       No   \n",
       "\n",
       "          Hyperlipidemia BackPain     Services  Initial_days  \\\n",
       "CaseOrder                                                      \n",
       "1                     No      Yes   Blood Work     10.585770   \n",
       "2                     No       No  Intravenous     15.129562   \n",
       "3                     No       No   Blood Work      4.772177   \n",
       "4                     No       No   Blood Work      1.714879   \n",
       "5                    Yes       No      CT Scan      1.254807   \n",
       "...                  ...      ...          ...           ...   \n",
       "9996                  No       No  Intravenous     51.561220   \n",
       "9997                  No       No      CT Scan     68.668240   \n",
       "9998                  No       No  Intravenous     70.154180   \n",
       "9999                  No      Yes   Blood Work     63.356900   \n",
       "10000                Yes       No   Blood Work     70.850590   \n",
       "\n",
       "           Additional_charges  \n",
       "CaseOrder                      \n",
       "1                17939.403420  \n",
       "2                17612.998120  \n",
       "3                17505.192460  \n",
       "4                12993.437350  \n",
       "5                 3716.525786  \n",
       "...                       ...  \n",
       "9996              8927.642000  \n",
       "9997             28507.150000  \n",
       "9998             15281.210000  \n",
       "9999              7781.678000  \n",
       "10000            11643.190000  \n",
       "\n",
       "[10000 rows x 17 columns]"
      ]
     },
     "execution_count": 85,
     "metadata": {},
     "output_type": "execute_result"
    }
   ],
   "source": [
    "#drop columns that are not related to the research question\n",
    "df = df.drop(columns=['Customer_id', 'Interaction', 'UID', 'City', 'State', 'County', 'Zip', 'Lat', 'Lng', 'Population', 'TimeZone', 'Job', 'Income', 'Children', 'Marital', 'Doc_visits', 'Full_meals_eaten', 'vitD_supp','Soft_drink', 'Anxiety', 'Allergic_rhinitis', 'Reflux_esophagitis', 'Asthma', 'TotalCharge', 'Item1', 'Item2', 'Item3', 'Item4', 'Item5', 'Item6', 'Item7', 'Item8'])\n",
    "\n",
    "#visually inspect df to facilitate exploration, spot problems\n",
    "pd.set_option('display.max_columns', None)\n",
    "df"
   ]
  },
  {
   "cell_type": "code",
   "execution_count": 86,
   "id": "66f3c1ca-acc9-42f7-ae4b-777d7122cfec",
   "metadata": {},
   "outputs": [
    {
     "data": {
      "text/plain": [
       "CaseOrder\n",
       "1        False\n",
       "2        False\n",
       "3        False\n",
       "4        False\n",
       "5        False\n",
       "         ...  \n",
       "9996     False\n",
       "9997     False\n",
       "9998     False\n",
       "9999     False\n",
       "10000    False\n",
       "Length: 10000, dtype: bool"
      ]
     },
     "execution_count": 86,
     "metadata": {},
     "output_type": "execute_result"
    }
   ],
   "source": [
    "#detection of duplicates True is missing value detected\n",
    "df.duplicated()"
   ]
  },
  {
   "cell_type": "code",
   "execution_count": 87,
   "id": "1ccbd80b-747b-430d-afb9-31ec20947bd1",
   "metadata": {},
   "outputs": [
    {
     "name": "stdout",
     "output_type": "stream",
     "text": [
      "False    10000\n",
      "Name: count, dtype: int64\n"
     ]
    }
   ],
   "source": [
    "#count True and False together\n",
    "print(df.duplicated().value_counts())"
   ]
  },
  {
   "cell_type": "code",
   "execution_count": 88,
   "id": "152abb92-05a0-44e3-865d-fa17a070321e",
   "metadata": {},
   "outputs": [
    {
     "data": {
      "text/plain": [
       "Area                  0\n",
       "Age                   0\n",
       "Gender                0\n",
       "ReAdmis               0\n",
       "VitD_levels           0\n",
       "Initial_admin         0\n",
       "HighBlood             0\n",
       "Stroke                0\n",
       "Complication_risk     0\n",
       "Overweight            0\n",
       "Arthritis             0\n",
       "Diabetes              0\n",
       "Hyperlipidemia        0\n",
       "BackPain              0\n",
       "Services              0\n",
       "Initial_days          0\n",
       "Additional_charges    0\n",
       "dtype: int64"
      ]
     },
     "execution_count": 88,
     "metadata": {},
     "output_type": "execute_result"
    }
   ],
   "source": [
    "#detect missing values\n",
    "df.isnull().sum()"
   ]
  },
  {
   "cell_type": "code",
   "execution_count": 89,
   "id": "489076fc-f1a1-4cfc-95c5-38908b8ce2e3",
   "metadata": {},
   "outputs": [
    {
     "name": "stdout",
     "output_type": "stream",
     "text": [
      "(10000, 17)\n",
      "(9976, 17)\n"
     ]
    }
   ],
   "source": [
    "#check for outliers and remove\n",
    "print(df.shape)\n",
    "df = df[(np.abs(stats.zscore(df.select_dtypes(include=np.number))) < 3).all(axis=1)]\n",
    "print(df.shape)"
   ]
  },
  {
   "cell_type": "code",
   "execution_count": 90,
   "id": "8395935a-c3ab-4415-a2f1-948203322d0b",
   "metadata": {},
   "outputs": [],
   "source": [
    "#convert ReAdmis, Stroke, Arthritis, Diabetes, HighBlood, Overweight, Hyperlipidemia, and BackPain from string to boolean\n",
    "bool_mapping = {\"Yes\": 1, \"No\": 0}\n",
    "\n",
    "columns_to_convert = [\"ReAdmis\", \"Stroke\", \"Arthritis\", \"Diabetes\", \"HighBlood\", \"Overweight\", \"Hyperlipidemia\", \"BackPain\"]\n",
    "for column in columns_to_convert:\n",
    "    df.loc[:, column] = df[column].map(bool_mapping)\n",
    "\n",
    "#convert Area, Gender, Initial_admin, Complication_risk, Services to category from string\n",
    "category_columns = [\"Area\", \"Gender\", \"Initial_admin\", \"Complication_risk\", \"Services\"]\n",
    "for column in category_columns:\n",
    "    df.loc[:, column] = df[column].astype(\"category\")"
   ]
  },
  {
   "cell_type": "code",
   "execution_count": 91,
   "id": "52397d13-c288-44a5-b231-efd5cfacbb15",
   "metadata": {},
   "outputs": [
    {
     "data": {
      "text/html": [
       "<div>\n",
       "<style scoped>\n",
       "    .dataframe tbody tr th:only-of-type {\n",
       "        vertical-align: middle;\n",
       "    }\n",
       "\n",
       "    .dataframe tbody tr th {\n",
       "        vertical-align: top;\n",
       "    }\n",
       "\n",
       "    .dataframe thead th {\n",
       "        text-align: right;\n",
       "    }\n",
       "</style>\n",
       "<table border=\"1\" class=\"dataframe\">\n",
       "  <thead>\n",
       "    <tr style=\"text-align: right;\">\n",
       "      <th></th>\n",
       "      <th>Age</th>\n",
       "      <th>VitD_levels</th>\n",
       "      <th>Initial_days</th>\n",
       "      <th>Additional_charges</th>\n",
       "    </tr>\n",
       "  </thead>\n",
       "  <tbody>\n",
       "    <tr>\n",
       "      <th>count</th>\n",
       "      <td>9976.000000</td>\n",
       "      <td>9976.000000</td>\n",
       "      <td>9976.000000</td>\n",
       "      <td>9976.000000</td>\n",
       "    </tr>\n",
       "    <tr>\n",
       "      <th>mean</th>\n",
       "      <td>53.499599</td>\n",
       "      <td>17.961542</td>\n",
       "      <td>34.442217</td>\n",
       "      <td>12928.740381</td>\n",
       "    </tr>\n",
       "    <tr>\n",
       "      <th>std</th>\n",
       "      <td>20.643570</td>\n",
       "      <td>1.992118</td>\n",
       "      <td>26.307773</td>\n",
       "      <td>6542.851751</td>\n",
       "    </tr>\n",
       "    <tr>\n",
       "      <th>min</th>\n",
       "      <td>18.000000</td>\n",
       "      <td>11.966340</td>\n",
       "      <td>1.001981</td>\n",
       "      <td>3125.703000</td>\n",
       "    </tr>\n",
       "    <tr>\n",
       "      <th>25%</th>\n",
       "      <td>36.000000</td>\n",
       "      <td>16.629534</td>\n",
       "      <td>7.896215</td>\n",
       "      <td>7977.009525</td>\n",
       "    </tr>\n",
       "    <tr>\n",
       "      <th>50%</th>\n",
       "      <td>53.000000</td>\n",
       "      <td>17.950096</td>\n",
       "      <td>34.446941</td>\n",
       "      <td>11564.474150</td>\n",
       "    </tr>\n",
       "    <tr>\n",
       "      <th>75%</th>\n",
       "      <td>71.000000</td>\n",
       "      <td>19.342284</td>\n",
       "      <td>61.157380</td>\n",
       "      <td>15613.047345</td>\n",
       "    </tr>\n",
       "    <tr>\n",
       "      <th>max</th>\n",
       "      <td>89.000000</td>\n",
       "      <td>23.941426</td>\n",
       "      <td>71.981490</td>\n",
       "      <td>30566.070000</td>\n",
       "    </tr>\n",
       "  </tbody>\n",
       "</table>\n",
       "</div>"
      ],
      "text/plain": [
       "               Age  VitD_levels  Initial_days  Additional_charges\n",
       "count  9976.000000  9976.000000   9976.000000         9976.000000\n",
       "mean     53.499599    17.961542     34.442217        12928.740381\n",
       "std      20.643570     1.992118     26.307773         6542.851751\n",
       "min      18.000000    11.966340      1.001981         3125.703000\n",
       "25%      36.000000    16.629534      7.896215         7977.009525\n",
       "50%      53.000000    17.950096     34.446941        11564.474150\n",
       "75%      71.000000    19.342284     61.157380        15613.047345\n",
       "max      89.000000    23.941426     71.981490        30566.070000"
      ]
     },
     "execution_count": 91,
     "metadata": {},
     "output_type": "execute_result"
    }
   ],
   "source": [
    "#get summary statistics for quantitative variables \n",
    "df.describe()"
   ]
  },
  {
   "cell_type": "code",
   "execution_count": 92,
   "id": "63db9c67-317b-4185-b245-20891546b55f",
   "metadata": {},
   "outputs": [
    {
     "data": {
      "text/plain": [
       "array([[<Axes: title={'center': 'Age'}>,\n",
       "        <Axes: title={'center': 'VitD_levels'}>],\n",
       "       [<Axes: title={'center': 'Initial_days'}>,\n",
       "        <Axes: title={'center': 'Additional_charges'}>]], dtype=object)"
      ]
     },
     "execution_count": 92,
     "metadata": {},
     "output_type": "execute_result"
    },
    {
     "data": {
      "image/png": "[encoded data removed]",
      "text/plain": [
       "<Figure size 1500x1500 with 4 Axes>"
      ]
     },
     "metadata": {},
     "output_type": "display_data"
    }
   ],
   "source": [
    "#distribution visualization\n",
    "df.hist(figsize = (15,15))"
   ]
  },
  {
   "cell_type": "code",
   "execution_count": 93,
   "id": "7cb09461-b8af-400f-9884-467ae45aed42",
   "metadata": {},
   "outputs": [
    {
     "data": {
      "text/plain": [
       "Area\n",
       "Rural       3360\n",
       "Suburban    3321\n",
       "Urban       3295\n",
       "Name: count, dtype: int64"
      ]
     },
     "execution_count": 93,
     "metadata": {},
     "output_type": "execute_result"
    }
   ],
   "source": [
    "#summary for categorical Area\n",
    "df.Area.value_counts()"
   ]
  },
  {
   "cell_type": "code",
   "execution_count": 94,
   "id": "d0787080-2eb3-47aa-9dcd-859fb80f3b05",
   "metadata": {},
   "outputs": [
    {
     "data": {
      "text/plain": [
       "Gender\n",
       "Female       5002\n",
       "Male         4761\n",
       "Nonbinary     213\n",
       "Name: count, dtype: int64"
      ]
     },
     "execution_count": 94,
     "metadata": {},
     "output_type": "execute_result"
    }
   ],
   "source": [
    "#summary for categorical Gender\n",
    "df.Gender.value_counts()"
   ]
  },
  {
   "cell_type": "code",
   "execution_count": 95,
   "id": "b7db4187-6b30-47b2-846d-b2df3ad98910",
   "metadata": {},
   "outputs": [
    {
     "data": {
      "text/plain": [
       "ReAdmis\n",
       "0    6317\n",
       "1    3659\n",
       "Name: count, dtype: int64"
      ]
     },
     "execution_count": 95,
     "metadata": {},
     "output_type": "execute_result"
    }
   ],
   "source": [
    "#summary for categorica ReAdmis\n",
    "df.ReAdmis.value_counts()"
   ]
  },
  {
   "cell_type": "code",
   "execution_count": 96,
   "id": "ed332152-f4ee-40b7-8dc1-3d5dae8ba5a0",
   "metadata": {},
   "outputs": [
    {
     "data": {
      "text/plain": [
       "Initial_admin\n",
       "Emergency Admission      5052\n",
       "Elective Admission       2495\n",
       "Observation Admission    2429\n",
       "Name: count, dtype: int64"
      ]
     },
     "execution_count": 96,
     "metadata": {},
     "output_type": "execute_result"
    }
   ],
   "source": [
    "#summary for categorical Initial_admin\n",
    "df.Initial_admin.value_counts()"
   ]
  },
  {
   "cell_type": "code",
   "execution_count": 97,
   "id": "c41e3a24-bafe-4da4-8e1b-87bd2cd930b2",
   "metadata": {},
   "outputs": [
    {
     "data": {
      "text/plain": [
       "HighBlood\n",
       "0    5900\n",
       "1    4076\n",
       "Name: count, dtype: int64"
      ]
     },
     "execution_count": 97,
     "metadata": {},
     "output_type": "execute_result"
    }
   ],
   "source": [
    "#summary for categorical HighBlood\n",
    "df.HighBlood.value_counts()"
   ]
  },
  {
   "cell_type": "code",
   "execution_count": 98,
   "id": "22300f17-a9bf-4cc1-903a-f7fcafb189b4",
   "metadata": {},
   "outputs": [
    {
     "data": {
      "text/plain": [
       "Stroke\n",
       "0    7988\n",
       "1    1988\n",
       "Name: count, dtype: int64"
      ]
     },
     "execution_count": 98,
     "metadata": {},
     "output_type": "execute_result"
    }
   ],
   "source": [
    "#summary for categorical Stroke\n",
    "df.Stroke.value_counts()"
   ]
  },
  {
   "cell_type": "code",
   "execution_count": 99,
   "id": "f09a4559-db26-4039-8f5f-6251eb0308f6",
   "metadata": {},
   "outputs": [
    {
     "data": {
      "text/plain": [
       "Complication_risk\n",
       "Medium    4507\n",
       "High      3350\n",
       "Low       2119\n",
       "Name: count, dtype: int64"
      ]
     },
     "execution_count": 99,
     "metadata": {},
     "output_type": "execute_result"
    }
   ],
   "source": [
    "#summary for categorical Complication_risk\n",
    "df.Complication_risk.value_counts()"
   ]
  },
  {
   "cell_type": "code",
   "execution_count": 100,
   "id": "3174d7c8-c374-4c4f-b33d-4f0304c33ec1",
   "metadata": {},
   "outputs": [
    {
     "data": {
      "text/plain": [
       "Overweight\n",
       "1    7078\n",
       "0    2898\n",
       "Name: count, dtype: int64"
      ]
     },
     "execution_count": 100,
     "metadata": {},
     "output_type": "execute_result"
    }
   ],
   "source": [
    "#summary for categorical Overweight\n",
    "df.Overweight.value_counts()"
   ]
  },
  {
   "cell_type": "code",
   "execution_count": 101,
   "id": "7b7ca051-af41-4136-b0f8-999e364bf3f2",
   "metadata": {},
   "outputs": [
    {
     "data": {
      "text/plain": [
       "Arthritis\n",
       "0    6410\n",
       "1    3566\n",
       "Name: count, dtype: int64"
      ]
     },
     "execution_count": 101,
     "metadata": {},
     "output_type": "execute_result"
    }
   ],
   "source": [
    "#summary for categorical Arthritis\n",
    "df.Arthritis.value_counts()"
   ]
  },
  {
   "cell_type": "code",
   "execution_count": 102,
   "id": "b57bb9f0-8c4d-44a4-bd49-d24b2fdf7d48",
   "metadata": {},
   "outputs": [
    {
     "data": {
      "text/plain": [
       "Diabetes\n",
       "0    7240\n",
       "1    2736\n",
       "Name: count, dtype: int64"
      ]
     },
     "execution_count": 102,
     "metadata": {},
     "output_type": "execute_result"
    }
   ],
   "source": [
    "#summary for categorical Diabetes\n",
    "df.Diabetes.value_counts()"
   ]
  },
  {
   "cell_type": "code",
   "execution_count": 103,
   "id": "c31f22a4-f505-46dc-9937-4278b18ee35e",
   "metadata": {},
   "outputs": [
    {
     "data": {
      "text/plain": [
       "Hyperlipidemia\n",
       "0    6611\n",
       "1    3365\n",
       "Name: count, dtype: int64"
      ]
     },
     "execution_count": 103,
     "metadata": {},
     "output_type": "execute_result"
    }
   ],
   "source": [
    "#summary for Hyperlipidemia\n",
    "df.Hyperlipidemia.value_counts()"
   ]
  },
  {
   "cell_type": "code",
   "execution_count": 104,
   "id": "d9686b9f-0c03-4473-b036-da4bb68fc875",
   "metadata": {},
   "outputs": [
    {
     "data": {
      "text/plain": [
       "BackPain\n",
       "0    5871\n",
       "1    4105\n",
       "Name: count, dtype: int64"
      ]
     },
     "execution_count": 104,
     "metadata": {},
     "output_type": "execute_result"
    }
   ],
   "source": [
    "#summary for BackPain\n",
    "df.BackPain.value_counts()"
   ]
  },
  {
   "cell_type": "code",
   "execution_count": 105,
   "id": "ac26d036-7b78-440d-9799-6c2c0cebfb71",
   "metadata": {},
   "outputs": [
    {
     "data": {
      "text/plain": [
       "Services\n",
       "Blood Work     5257\n",
       "Intravenous    3123\n",
       "CT Scan        1219\n",
       "MRI             377\n",
       "Name: count, dtype: int64"
      ]
     },
     "execution_count": 105,
     "metadata": {},
     "output_type": "execute_result"
    }
   ],
   "source": [
    "#summary for Services\n",
    "df.Services.value_counts()"
   ]
  },
  {
   "cell_type": "code",
   "execution_count": 106,
   "id": "1130ea3f-5d43-4fbc-ab0b-23e0d9638f0e",
   "metadata": {},
   "outputs": [
    {
     "data": {
      "image/png": "[encoded data removed]",
      "text/plain": [
       "<Figure size 2000x1500 with 12 Axes>"
      ]
     },
     "metadata": {},
     "output_type": "display_data"
    }
   ],
   "source": [
    "#list of categorical variables\n",
    "categorical_vars = ['Area', 'Gender', 'Initial_admin', 'HighBlood', 'Stroke', 'Complication_risk', 'Overweight', 'Arthritis', 'Diabetes', 'Hyperlipidemia', 'BackPain', 'Services']\n",
    "\n",
    "#set up the matplotlib figure with a grid layout\n",
    "fig, axes = plt.subplots(nrows=3, ncols=4, figsize=(20, 15))\n",
    "\n",
    "#flatten the axes array for easy iteration\n",
    "axes = axes.flatten()\n",
    "\n",
    "#create bar plots for each categorical variable\n",
    "for i, var in enumerate(categorical_vars):\n",
    "    sns.countplot(data=df, x=var, ax=axes[i])\n",
    "    axes[i].set_title(f'Distribution of {var}')\n",
    "    axes[i].set_xlabel(var)\n",
    "    axes[i].set_ylabel('Count')\n",
    "\n",
    "#remove any empty subplots\n",
    "for j in range(i + 1, len(axes)):\n",
    "    fig.delaxes(axes[j])\n",
    "\n",
    "plt.tight_layout()\n",
    "plt.show()"
   ]
  },
  {
   "cell_type": "code",
   "execution_count": 107,
   "id": "69b52808-c227-4276-907f-61150e64d480",
   "metadata": {},
   "outputs": [],
   "source": [
    "#generate column names which are pythonic in syntax and descriptive\n",
    "pythonic_columns = ['area_type', 'age', 'gender', 'readmission', 'vitamin_d_level', 'initial_admission_type', 'high_bp', 'stroke', 'complication_risk', 'overweight', 'arthritis', 'diabetes', 'hyperlipidemia', 'back_pain', 'services_type', 'days_hospitalized', 'additional_charges' ]\n",
    "\n",
    "#implement new pythonic column headings\n",
    "df.columns = pythonic_columns"
   ]
  },
  {
   "cell_type": "code",
   "execution_count": 108,
   "id": "4dfe5858-0ab3-4153-90cf-dab138caab36",
   "metadata": {},
   "outputs": [
    {
     "name": "stdout",
     "output_type": "stream",
     "text": [
      "<class 'pandas.core.frame.DataFrame'>\n",
      "Index: 9976 entries, 1 to 10000\n",
      "Data columns (total 17 columns):\n",
      " #   Column                  Non-Null Count  Dtype  \n",
      "---  ------                  --------------  -----  \n",
      " 0   area_type               9976 non-null   object \n",
      " 1   age                     9976 non-null   int64  \n",
      " 2   gender                  9976 non-null   object \n",
      " 3   readmission             9976 non-null   object \n",
      " 4   vitamin_d_level         9976 non-null   float64\n",
      " 5   initial_admission_type  9976 non-null   object \n",
      " 6   high_bp                 9976 non-null   object \n",
      " 7   stroke                  9976 non-null   object \n",
      " 8   complication_risk       9976 non-null   object \n",
      " 9   overweight              9976 non-null   object \n",
      " 10  arthritis               9976 non-null   object \n",
      " 11  diabetes                9976 non-null   object \n",
      " 12  hyperlipidemia          9976 non-null   object \n",
      " 13  back_pain               9976 non-null   object \n",
      " 14  services_type           9976 non-null   object \n",
      " 15  days_hospitalized       9976 non-null   float64\n",
      " 16  additional_charges      9976 non-null   float64\n",
      "dtypes: float64(3), int64(1), object(13)\n",
      "memory usage: 1.4+ MB\n"
     ]
    }
   ],
   "source": [
    "df.info()"
   ]
  },
  {
   "cell_type": "code",
   "execution_count": 109,
   "id": "bd4b8afb-8765-47cb-a58d-d045ae3cdd4b",
   "metadata": {},
   "outputs": [],
   "source": [
    "#set the pandas option to opt-in to the future behavior\n",
    "pd.set_option('future.no_silent_downcasting', True)\n",
    "\n",
    "#One Hot Encoding using get_dummies\n",
    "df = pd.get_dummies(df, columns=['area_type', 'gender', 'initial_admission_type', 'complication_risk', 'services_type'])\n",
    "\n",
    "#replace boolean values with integers\n",
    "df = df.replace({True: 1, False: 0})\n",
    "\n",
    "#convert all columns to numeric\n",
    "df = df.apply(pd.to_numeric, axis=0)\n"
   ]
  },
  {
   "cell_type": "code",
   "execution_count": 110,
   "id": "4bb40a47-b91a-4905-a3e0-4ae8fefacad2",
   "metadata": {},
   "outputs": [
    {
     "name": "stdout",
     "output_type": "stream",
     "text": [
      "<class 'pandas.core.frame.DataFrame'>\n",
      "Index: 9976 entries, 1 to 10000\n",
      "Data columns (total 28 columns):\n",
      " #   Column                                        Non-Null Count  Dtype  \n",
      "---  ------                                        --------------  -----  \n",
      " 0   age                                           9976 non-null   int64  \n",
      " 1   readmission                                   9976 non-null   int64  \n",
      " 2   vitamin_d_level                               9976 non-null   float64\n",
      " 3   high_bp                                       9976 non-null   int64  \n",
      " 4   stroke                                        9976 non-null   int64  \n",
      " 5   overweight                                    9976 non-null   int64  \n",
      " 6   arthritis                                     9976 non-null   int64  \n",
      " 7   diabetes                                      9976 non-null   int64  \n",
      " 8   hyperlipidemia                                9976 non-null   int64  \n",
      " 9   back_pain                                     9976 non-null   int64  \n",
      " 10  days_hospitalized                             9976 non-null   float64\n",
      " 11  additional_charges                            9976 non-null   float64\n",
      " 12  area_type_Rural                               9976 non-null   int64  \n",
      " 13  area_type_Suburban                            9976 non-null   int64  \n",
      " 14  area_type_Urban                               9976 non-null   int64  \n",
      " 15  gender_Female                                 9976 non-null   int64  \n",
      " 16  gender_Male                                   9976 non-null   int64  \n",
      " 17  gender_Nonbinary                              9976 non-null   int64  \n",
      " 18  initial_admission_type_Elective Admission     9976 non-null   int64  \n",
      " 19  initial_admission_type_Emergency Admission    9976 non-null   int64  \n",
      " 20  initial_admission_type_Observation Admission  9976 non-null   int64  \n",
      " 21  complication_risk_High                        9976 non-null   int64  \n",
      " 22  complication_risk_Low                         9976 non-null   int64  \n",
      " 23  complication_risk_Medium                      9976 non-null   int64  \n",
      " 24  services_type_Blood Work                      9976 non-null   int64  \n",
      " 25  services_type_CT Scan                         9976 non-null   int64  \n",
      " 26  services_type_Intravenous                     9976 non-null   int64  \n",
      " 27  services_type_MRI                             9976 non-null   int64  \n",
      "dtypes: float64(3), int64(25)\n",
      "memory usage: 2.2 MB\n"
     ]
    }
   ],
   "source": [
    "df.info()"
   ]
  },
  {
   "cell_type": "code",
   "execution_count": 111,
   "id": "10baa630-1fcf-424b-9b93-4f6ebe448a5f",
   "metadata": {},
   "outputs": [
    {
     "name": "stdout",
     "output_type": "stream",
     "text": [
      "(9976, 27)\n",
      "(9976,)\n"
     ]
    }
   ],
   "source": [
    "#separate the X explanatory variables from the response Y variable readmission into different dataframes\n",
    "df_X = df.drop(['readmission'], axis=1).copy()\n",
    "df_y = df['readmission'].copy()\n",
    "print(df_X.shape)\n",
    "print(df_y.shape)"
   ]
  },
  {
   "cell_type": "code",
   "execution_count": 112,
   "id": "230c8bcd-7dcb-46c9-9c55-34db93cfde6e",
   "metadata": {},
   "outputs": [
    {
     "data": {
      "text/html": [
       "<div>\n",
       "<style scoped>\n",
       "    .dataframe tbody tr th:only-of-type {\n",
       "        vertical-align: middle;\n",
       "    }\n",
       "\n",
       "    .dataframe tbody tr th {\n",
       "        vertical-align: top;\n",
       "    }\n",
       "\n",
       "    .dataframe thead th {\n",
       "        text-align: right;\n",
       "    }\n",
       "</style>\n",
       "<table border=\"1\" class=\"dataframe\">\n",
       "  <thead>\n",
       "    <tr style=\"text-align: right;\">\n",
       "      <th></th>\n",
       "      <th>age</th>\n",
       "      <th>vitamin_d_level</th>\n",
       "      <th>high_bp</th>\n",
       "      <th>stroke</th>\n",
       "      <th>overweight</th>\n",
       "      <th>arthritis</th>\n",
       "      <th>diabetes</th>\n",
       "      <th>hyperlipidemia</th>\n",
       "      <th>back_pain</th>\n",
       "      <th>days_hospitalized</th>\n",
       "      <th>additional_charges</th>\n",
       "      <th>area_type_Rural</th>\n",
       "      <th>area_type_Suburban</th>\n",
       "      <th>area_type_Urban</th>\n",
       "      <th>gender_Female</th>\n",
       "      <th>gender_Male</th>\n",
       "      <th>gender_Nonbinary</th>\n",
       "      <th>initial_admission_type_Elective Admission</th>\n",
       "      <th>initial_admission_type_Emergency Admission</th>\n",
       "      <th>initial_admission_type_Observation Admission</th>\n",
       "      <th>complication_risk_High</th>\n",
       "      <th>complication_risk_Low</th>\n",
       "      <th>complication_risk_Medium</th>\n",
       "      <th>services_type_Blood Work</th>\n",
       "      <th>services_type_CT Scan</th>\n",
       "      <th>services_type_Intravenous</th>\n",
       "      <th>services_type_MRI</th>\n",
       "    </tr>\n",
       "  </thead>\n",
       "  <tbody>\n",
       "    <tr>\n",
       "      <th>0</th>\n",
       "      <td>0.492958</td>\n",
       "      <td>0.599171</td>\n",
       "      <td>1.0</td>\n",
       "      <td>0.0</td>\n",
       "      <td>0.0</td>\n",
       "      <td>1.0</td>\n",
       "      <td>1.0</td>\n",
       "      <td>0.0</td>\n",
       "      <td>1.0</td>\n",
       "      <td>0.135022</td>\n",
       "      <td>0.539851</td>\n",
       "      <td>0.0</td>\n",
       "      <td>1.0</td>\n",
       "      <td>0.0</td>\n",
       "      <td>0.0</td>\n",
       "      <td>1.0</td>\n",
       "      <td>0.0</td>\n",
       "      <td>0.0</td>\n",
       "      <td>1.0</td>\n",
       "      <td>0.0</td>\n",
       "      <td>0.0</td>\n",
       "      <td>0.0</td>\n",
       "      <td>1.0</td>\n",
       "      <td>1.0</td>\n",
       "      <td>0.0</td>\n",
       "      <td>0.0</td>\n",
       "      <td>0.0</td>\n",
       "    </tr>\n",
       "    <tr>\n",
       "      <th>1</th>\n",
       "      <td>0.464789</td>\n",
       "      <td>0.582377</td>\n",
       "      <td>1.0</td>\n",
       "      <td>0.0</td>\n",
       "      <td>1.0</td>\n",
       "      <td>0.0</td>\n",
       "      <td>0.0</td>\n",
       "      <td>0.0</td>\n",
       "      <td>0.0</td>\n",
       "      <td>0.199037</td>\n",
       "      <td>0.527956</td>\n",
       "      <td>0.0</td>\n",
       "      <td>0.0</td>\n",
       "      <td>1.0</td>\n",
       "      <td>1.0</td>\n",
       "      <td>0.0</td>\n",
       "      <td>0.0</td>\n",
       "      <td>0.0</td>\n",
       "      <td>1.0</td>\n",
       "      <td>0.0</td>\n",
       "      <td>1.0</td>\n",
       "      <td>0.0</td>\n",
       "      <td>0.0</td>\n",
       "      <td>0.0</td>\n",
       "      <td>0.0</td>\n",
       "      <td>1.0</td>\n",
       "      <td>0.0</td>\n",
       "    </tr>\n",
       "    <tr>\n",
       "      <th>2</th>\n",
       "      <td>0.492958</td>\n",
       "      <td>0.508653</td>\n",
       "      <td>1.0</td>\n",
       "      <td>0.0</td>\n",
       "      <td>1.0</td>\n",
       "      <td>0.0</td>\n",
       "      <td>1.0</td>\n",
       "      <td>0.0</td>\n",
       "      <td>0.0</td>\n",
       "      <td>0.053117</td>\n",
       "      <td>0.524027</td>\n",
       "      <td>0.0</td>\n",
       "      <td>1.0</td>\n",
       "      <td>0.0</td>\n",
       "      <td>1.0</td>\n",
       "      <td>0.0</td>\n",
       "      <td>0.0</td>\n",
       "      <td>1.0</td>\n",
       "      <td>0.0</td>\n",
       "      <td>0.0</td>\n",
       "      <td>0.0</td>\n",
       "      <td>0.0</td>\n",
       "      <td>1.0</td>\n",
       "      <td>1.0</td>\n",
       "      <td>0.0</td>\n",
       "      <td>0.0</td>\n",
       "      <td>0.0</td>\n",
       "    </tr>\n",
       "    <tr>\n",
       "      <th>3</th>\n",
       "      <td>0.845070</td>\n",
       "      <td>0.385009</td>\n",
       "      <td>0.0</td>\n",
       "      <td>1.0</td>\n",
       "      <td>0.0</td>\n",
       "      <td>1.0</td>\n",
       "      <td>0.0</td>\n",
       "      <td>0.0</td>\n",
       "      <td>0.0</td>\n",
       "      <td>0.010044</td>\n",
       "      <td>0.359607</td>\n",
       "      <td>0.0</td>\n",
       "      <td>1.0</td>\n",
       "      <td>0.0</td>\n",
       "      <td>0.0</td>\n",
       "      <td>1.0</td>\n",
       "      <td>0.0</td>\n",
       "      <td>1.0</td>\n",
       "      <td>0.0</td>\n",
       "      <td>0.0</td>\n",
       "      <td>0.0</td>\n",
       "      <td>0.0</td>\n",
       "      <td>1.0</td>\n",
       "      <td>1.0</td>\n",
       "      <td>0.0</td>\n",
       "      <td>0.0</td>\n",
       "      <td>0.0</td>\n",
       "    </tr>\n",
       "    <tr>\n",
       "      <th>4</th>\n",
       "      <td>0.056338</td>\n",
       "      <td>0.457010</td>\n",
       "      <td>0.0</td>\n",
       "      <td>0.0</td>\n",
       "      <td>0.0</td>\n",
       "      <td>0.0</td>\n",
       "      <td>0.0</td>\n",
       "      <td>1.0</td>\n",
       "      <td>0.0</td>\n",
       "      <td>0.003562</td>\n",
       "      <td>0.021531</td>\n",
       "      <td>1.0</td>\n",
       "      <td>0.0</td>\n",
       "      <td>0.0</td>\n",
       "      <td>1.0</td>\n",
       "      <td>0.0</td>\n",
       "      <td>0.0</td>\n",
       "      <td>1.0</td>\n",
       "      <td>0.0</td>\n",
       "      <td>0.0</td>\n",
       "      <td>0.0</td>\n",
       "      <td>1.0</td>\n",
       "      <td>0.0</td>\n",
       "      <td>0.0</td>\n",
       "      <td>1.0</td>\n",
       "      <td>0.0</td>\n",
       "      <td>0.0</td>\n",
       "    </tr>\n",
       "    <tr>\n",
       "      <th>...</th>\n",
       "      <td>...</td>\n",
       "      <td>...</td>\n",
       "      <td>...</td>\n",
       "      <td>...</td>\n",
       "      <td>...</td>\n",
       "      <td>...</td>\n",
       "      <td>...</td>\n",
       "      <td>...</td>\n",
       "      <td>...</td>\n",
       "      <td>...</td>\n",
       "      <td>...</td>\n",
       "      <td>...</td>\n",
       "      <td>...</td>\n",
       "      <td>...</td>\n",
       "      <td>...</td>\n",
       "      <td>...</td>\n",
       "      <td>...</td>\n",
       "      <td>...</td>\n",
       "      <td>...</td>\n",
       "      <td>...</td>\n",
       "      <td>...</td>\n",
       "      <td>...</td>\n",
       "      <td>...</td>\n",
       "      <td>...</td>\n",
       "      <td>...</td>\n",
       "      <td>...</td>\n",
       "      <td>...</td>\n",
       "    </tr>\n",
       "    <tr>\n",
       "      <th>9971</th>\n",
       "      <td>0.098592</td>\n",
       "      <td>0.418746</td>\n",
       "      <td>1.0</td>\n",
       "      <td>0.0</td>\n",
       "      <td>0.0</td>\n",
       "      <td>0.0</td>\n",
       "      <td>0.0</td>\n",
       "      <td>0.0</td>\n",
       "      <td>0.0</td>\n",
       "      <td>0.712308</td>\n",
       "      <td>0.211438</td>\n",
       "      <td>0.0</td>\n",
       "      <td>0.0</td>\n",
       "      <td>1.0</td>\n",
       "      <td>0.0</td>\n",
       "      <td>1.0</td>\n",
       "      <td>0.0</td>\n",
       "      <td>0.0</td>\n",
       "      <td>1.0</td>\n",
       "      <td>0.0</td>\n",
       "      <td>0.0</td>\n",
       "      <td>0.0</td>\n",
       "      <td>1.0</td>\n",
       "      <td>0.0</td>\n",
       "      <td>0.0</td>\n",
       "      <td>1.0</td>\n",
       "      <td>0.0</td>\n",
       "    </tr>\n",
       "    <tr>\n",
       "      <th>9972</th>\n",
       "      <td>0.971831</td>\n",
       "      <td>0.518633</td>\n",
       "      <td>1.0</td>\n",
       "      <td>0.0</td>\n",
       "      <td>1.0</td>\n",
       "      <td>1.0</td>\n",
       "      <td>1.0</td>\n",
       "      <td>0.0</td>\n",
       "      <td>0.0</td>\n",
       "      <td>0.953321</td>\n",
       "      <td>0.924967</td>\n",
       "      <td>0.0</td>\n",
       "      <td>0.0</td>\n",
       "      <td>1.0</td>\n",
       "      <td>0.0</td>\n",
       "      <td>1.0</td>\n",
       "      <td>0.0</td>\n",
       "      <td>1.0</td>\n",
       "      <td>0.0</td>\n",
       "      <td>0.0</td>\n",
       "      <td>0.0</td>\n",
       "      <td>0.0</td>\n",
       "      <td>1.0</td>\n",
       "      <td>0.0</td>\n",
       "      <td>1.0</td>\n",
       "      <td>0.0</td>\n",
       "      <td>0.0</td>\n",
       "    </tr>\n",
       "    <tr>\n",
       "      <th>9973</th>\n",
       "      <td>0.380282</td>\n",
       "      <td>0.431123</td>\n",
       "      <td>1.0</td>\n",
       "      <td>0.0</td>\n",
       "      <td>1.0</td>\n",
       "      <td>0.0</td>\n",
       "      <td>0.0</td>\n",
       "      <td>0.0</td>\n",
       "      <td>0.0</td>\n",
       "      <td>0.974256</td>\n",
       "      <td>0.442979</td>\n",
       "      <td>1.0</td>\n",
       "      <td>0.0</td>\n",
       "      <td>0.0</td>\n",
       "      <td>1.0</td>\n",
       "      <td>0.0</td>\n",
       "      <td>0.0</td>\n",
       "      <td>1.0</td>\n",
       "      <td>0.0</td>\n",
       "      <td>0.0</td>\n",
       "      <td>1.0</td>\n",
       "      <td>0.0</td>\n",
       "      <td>0.0</td>\n",
       "      <td>0.0</td>\n",
       "      <td>0.0</td>\n",
       "      <td>1.0</td>\n",
       "      <td>0.0</td>\n",
       "    </tr>\n",
       "    <tr>\n",
       "      <th>9974</th>\n",
       "      <td>0.352113</td>\n",
       "      <td>0.663385</td>\n",
       "      <td>0.0</td>\n",
       "      <td>0.0</td>\n",
       "      <td>1.0</td>\n",
       "      <td>0.0</td>\n",
       "      <td>0.0</td>\n",
       "      <td>0.0</td>\n",
       "      <td>1.0</td>\n",
       "      <td>0.878492</td>\n",
       "      <td>0.169676</td>\n",
       "      <td>1.0</td>\n",
       "      <td>0.0</td>\n",
       "      <td>0.0</td>\n",
       "      <td>0.0</td>\n",
       "      <td>1.0</td>\n",
       "      <td>0.0</td>\n",
       "      <td>0.0</td>\n",
       "      <td>1.0</td>\n",
       "      <td>0.0</td>\n",
       "      <td>0.0</td>\n",
       "      <td>0.0</td>\n",
       "      <td>1.0</td>\n",
       "      <td>1.0</td>\n",
       "      <td>0.0</td>\n",
       "      <td>0.0</td>\n",
       "      <td>0.0</td>\n",
       "    </tr>\n",
       "    <tr>\n",
       "      <th>9975</th>\n",
       "      <td>0.732394</td>\n",
       "      <td>0.536303</td>\n",
       "      <td>0.0</td>\n",
       "      <td>0.0</td>\n",
       "      <td>1.0</td>\n",
       "      <td>1.0</td>\n",
       "      <td>0.0</td>\n",
       "      <td>1.0</td>\n",
       "      <td>0.0</td>\n",
       "      <td>0.984067</td>\n",
       "      <td>0.310400</td>\n",
       "      <td>0.0</td>\n",
       "      <td>0.0</td>\n",
       "      <td>1.0</td>\n",
       "      <td>1.0</td>\n",
       "      <td>0.0</td>\n",
       "      <td>0.0</td>\n",
       "      <td>0.0</td>\n",
       "      <td>0.0</td>\n",
       "      <td>1.0</td>\n",
       "      <td>0.0</td>\n",
       "      <td>1.0</td>\n",
       "      <td>0.0</td>\n",
       "      <td>1.0</td>\n",
       "      <td>0.0</td>\n",
       "      <td>0.0</td>\n",
       "      <td>0.0</td>\n",
       "    </tr>\n",
       "  </tbody>\n",
       "</table>\n",
       "<p>9976 rows × 27 columns</p>\n",
       "</div>"
      ],
      "text/plain": [
       "           age  vitamin_d_level  high_bp  stroke  overweight  arthritis  \\\n",
       "0     0.492958         0.599171      1.0     0.0         0.0        1.0   \n",
       "1     0.464789         0.582377      1.0     0.0         1.0        0.0   \n",
       "2     0.492958         0.508653      1.0     0.0         1.0        0.0   \n",
       "3     0.845070         0.385009      0.0     1.0         0.0        1.0   \n",
       "4     0.056338         0.457010      0.0     0.0         0.0        0.0   \n",
       "...        ...              ...      ...     ...         ...        ...   \n",
       "9971  0.098592         0.418746      1.0     0.0         0.0        0.0   \n",
       "9972  0.971831         0.518633      1.0     0.0         1.0        1.0   \n",
       "9973  0.380282         0.431123      1.0     0.0         1.0        0.0   \n",
       "9974  0.352113         0.663385      0.0     0.0         1.0        0.0   \n",
       "9975  0.732394         0.536303      0.0     0.0         1.0        1.0   \n",
       "\n",
       "      diabetes  hyperlipidemia  back_pain  days_hospitalized  \\\n",
       "0          1.0             0.0        1.0           0.135022   \n",
       "1          0.0             0.0        0.0           0.199037   \n",
       "2          1.0             0.0        0.0           0.053117   \n",
       "3          0.0             0.0        0.0           0.010044   \n",
       "4          0.0             1.0        0.0           0.003562   \n",
       "...        ...             ...        ...                ...   \n",
       "9971       0.0             0.0        0.0           0.712308   \n",
       "9972       1.0             0.0        0.0           0.953321   \n",
       "9973       0.0             0.0        0.0           0.974256   \n",
       "9974       0.0             0.0        1.0           0.878492   \n",
       "9975       0.0             1.0        0.0           0.984067   \n",
       "\n",
       "      additional_charges  area_type_Rural  area_type_Suburban  \\\n",
       "0               0.539851              0.0                 1.0   \n",
       "1               0.527956              0.0                 0.0   \n",
       "2               0.524027              0.0                 1.0   \n",
       "3               0.359607              0.0                 1.0   \n",
       "4               0.021531              1.0                 0.0   \n",
       "...                  ...              ...                 ...   \n",
       "9971            0.211438              0.0                 0.0   \n",
       "9972            0.924967              0.0                 0.0   \n",
       "9973            0.442979              1.0                 0.0   \n",
       "9974            0.169676              1.0                 0.0   \n",
       "9975            0.310400              0.0                 0.0   \n",
       "\n",
       "      area_type_Urban  gender_Female  gender_Male  gender_Nonbinary  \\\n",
       "0                 0.0            0.0          1.0               0.0   \n",
       "1                 1.0            1.0          0.0               0.0   \n",
       "2                 0.0            1.0          0.0               0.0   \n",
       "3                 0.0            0.0          1.0               0.0   \n",
       "4                 0.0            1.0          0.0               0.0   \n",
       "...               ...            ...          ...               ...   \n",
       "9971              1.0            0.0          1.0               0.0   \n",
       "9972              1.0            0.0          1.0               0.0   \n",
       "9973              0.0            1.0          0.0               0.0   \n",
       "9974              0.0            0.0          1.0               0.0   \n",
       "9975              1.0            1.0          0.0               0.0   \n",
       "\n",
       "      initial_admission_type_Elective Admission  \\\n",
       "0                                           0.0   \n",
       "1                                           0.0   \n",
       "2                                           1.0   \n",
       "3                                           1.0   \n",
       "4                                           1.0   \n",
       "...                                         ...   \n",
       "9971                                        0.0   \n",
       "9972                                        1.0   \n",
       "9973                                        1.0   \n",
       "9974                                        0.0   \n",
       "9975                                        0.0   \n",
       "\n",
       "      initial_admission_type_Emergency Admission  \\\n",
       "0                                            1.0   \n",
       "1                                            1.0   \n",
       "2                                            0.0   \n",
       "3                                            0.0   \n",
       "4                                            0.0   \n",
       "...                                          ...   \n",
       "9971                                         1.0   \n",
       "9972                                         0.0   \n",
       "9973                                         0.0   \n",
       "9974                                         1.0   \n",
       "9975                                         0.0   \n",
       "\n",
       "      initial_admission_type_Observation Admission  complication_risk_High  \\\n",
       "0                                              0.0                     0.0   \n",
       "1                                              0.0                     1.0   \n",
       "2                                              0.0                     0.0   \n",
       "3                                              0.0                     0.0   \n",
       "4                                              0.0                     0.0   \n",
       "...                                            ...                     ...   \n",
       "9971                                           0.0                     0.0   \n",
       "9972                                           0.0                     0.0   \n",
       "9973                                           0.0                     1.0   \n",
       "9974                                           0.0                     0.0   \n",
       "9975                                           1.0                     0.0   \n",
       "\n",
       "      complication_risk_Low  complication_risk_Medium  \\\n",
       "0                       0.0                       1.0   \n",
       "1                       0.0                       0.0   \n",
       "2                       0.0                       1.0   \n",
       "3                       0.0                       1.0   \n",
       "4                       1.0                       0.0   \n",
       "...                     ...                       ...   \n",
       "9971                    0.0                       1.0   \n",
       "9972                    0.0                       1.0   \n",
       "9973                    0.0                       0.0   \n",
       "9974                    0.0                       1.0   \n",
       "9975                    1.0                       0.0   \n",
       "\n",
       "      services_type_Blood Work  services_type_CT Scan  \\\n",
       "0                          1.0                    0.0   \n",
       "1                          0.0                    0.0   \n",
       "2                          1.0                    0.0   \n",
       "3                          1.0                    0.0   \n",
       "4                          0.0                    1.0   \n",
       "...                        ...                    ...   \n",
       "9971                       0.0                    0.0   \n",
       "9972                       0.0                    1.0   \n",
       "9973                       0.0                    0.0   \n",
       "9974                       1.0                    0.0   \n",
       "9975                       1.0                    0.0   \n",
       "\n",
       "      services_type_Intravenous  services_type_MRI  \n",
       "0                           0.0                0.0  \n",
       "1                           1.0                0.0  \n",
       "2                           0.0                0.0  \n",
       "3                           0.0                0.0  \n",
       "4                           0.0                0.0  \n",
       "...                         ...                ...  \n",
       "9971                        1.0                0.0  \n",
       "9972                        0.0                0.0  \n",
       "9973                        1.0                0.0  \n",
       "9974                        0.0                0.0  \n",
       "9975                        0.0                0.0  \n",
       "\n",
       "[9976 rows x 27 columns]"
      ]
     },
     "execution_count": 112,
     "metadata": {},
     "output_type": "execute_result"
    }
   ],
   "source": [
    "#standardize the X variables to put all on the same scale for KNN to measure distance\n",
    "df_X = pd.DataFrame(preprocessing.MinMaxScaler().fit_transform(df_X), columns=df_X.columns)\n",
    "df_X"
   ]
  },
  {
   "cell_type": "code",
   "execution_count": 113,
   "id": "53e8f4a0-d815-44f3-9ea3-b8ffaec203be",
   "metadata": {},
   "outputs": [
    {
     "data": {
      "text/plain": [
       "CaseOrder\n",
       "1        0\n",
       "2        0\n",
       "3        0\n",
       "4        0\n",
       "5        0\n",
       "        ..\n",
       "9996     0\n",
       "9997     1\n",
       "9998     1\n",
       "9999     1\n",
       "10000    1\n",
       "Name: readmission, Length: 9976, dtype: int64"
      ]
     },
     "execution_count": 113,
     "metadata": {},
     "output_type": "execute_result"
    }
   ],
   "source": [
    "df_y"
   ]
  },
  {
   "cell_type": "code",
   "execution_count": 114,
   "id": "19855b1f-5e49-4ac0-9f6f-b2f7e98857d0",
   "metadata": {},
   "outputs": [],
   "source": [
    "#prepared dataset to csv file\n",
    "df.to_csv('D209_task1.csv', index=False)"
   ]
  },
  {
   "cell_type": "code",
   "execution_count": 115,
   "id": "37d84e73-1141-473d-88af-44ad9433fd3e",
   "metadata": {},
   "outputs": [
    {
     "data": {
      "text/html": [
       "<div>\n",
       "<style scoped>\n",
       "    .dataframe tbody tr th:only-of-type {\n",
       "        vertical-align: middle;\n",
       "    }\n",
       "\n",
       "    .dataframe tbody tr th {\n",
       "        vertical-align: top;\n",
       "    }\n",
       "\n",
       "    .dataframe thead th {\n",
       "        text-align: right;\n",
       "    }\n",
       "</style>\n",
       "<table border=\"1\" class=\"dataframe\">\n",
       "  <thead>\n",
       "    <tr style=\"text-align: right;\">\n",
       "      <th></th>\n",
       "      <th>Feature</th>\n",
       "      <th>p_value</th>\n",
       "    </tr>\n",
       "  </thead>\n",
       "  <tbody>\n",
       "    <tr>\n",
       "      <th>9</th>\n",
       "      <td>days_hospitalized</td>\n",
       "      <td>0.000000</td>\n",
       "    </tr>\n",
       "    <tr>\n",
       "      <th>24</th>\n",
       "      <td>services_type_CT Scan</td>\n",
       "      <td>0.011382</td>\n",
       "    </tr>\n",
       "    <tr>\n",
       "      <th>18</th>\n",
       "      <td>initial_admission_type_Emergency Admission</td>\n",
       "      <td>0.041634</td>\n",
       "    </tr>\n",
       "    <tr>\n",
       "      <th>25</th>\n",
       "      <td>services_type_Intravenous</td>\n",
       "      <td>0.041720</td>\n",
       "    </tr>\n",
       "  </tbody>\n",
       "</table>\n",
       "</div>"
      ],
      "text/plain": [
       "                                       Feature   p_value\n",
       "9                            days_hospitalized  0.000000\n",
       "24                       services_type_CT Scan  0.011382\n",
       "18  initial_admission_type_Emergency Admission  0.041634\n",
       "25                   services_type_Intravenous  0.041720"
      ]
     },
     "execution_count": 115,
     "metadata": {},
     "output_type": "execute_result"
    }
   ],
   "source": [
    "#use SelectKBest to determine the best variables to include in the model \n",
    "feat_select = SelectKBest(f_classif, k='all')\n",
    "feat_select.fit_transform(df_X, df_y)\n",
    "feat_pvals = pd.DataFrame({'Feature' : df_X.columns, 'p_value' : feat_select.pvalues_}).sort_values('p_value') \n",
    "feat_pvals[feat_pvals['p_value'] < 0.05] "
   ]
  },
  {
   "cell_type": "code",
   "execution_count": 116,
   "id": "c8da1c57-f27b-41c7-8d1f-4dd654e7a971",
   "metadata": {},
   "outputs": [
    {
     "name": "stdout",
     "output_type": "stream",
     "text": [
      "                                      feature       VIF\n",
      "0                           days_hospitalized  1.664670\n",
      "1                       services_type_CT Scan  1.136615\n",
      "2  initial_admission_type_Emergency Admission  1.558100\n",
      "3                   services_type_Intravenous  1.327574\n"
     ]
    }
   ],
   "source": [
    "#check VIF for multicollinearity issues amongst these variables\n",
    "X = df[['days_hospitalized', 'services_type_CT Scan', 'initial_admission_type_Emergency Admission', 'services_type_Intravenous']]\n",
    "\n",
    "vif_df = pd.DataFrame()\n",
    "vif_df['feature'] = X.columns\n",
    "\n",
    "vif_df['VIF'] = [variance_inflation_factor(X.values, i)\n",
    "for i in range(len(X.columns))]\n",
    "\n",
    "print(vif_df)"
   ]
  },
  {
   "cell_type": "code",
   "execution_count": 117,
   "id": "03e8c286-3d6a-4cb1-895d-9192d8493f8d",
   "metadata": {},
   "outputs": [
    {
     "name": "stdout",
     "output_type": "stream",
     "text": [
      "(7980, 4)\n",
      "(1996, 4)\n",
      "(7980,)\n",
      "(1996,)\n"
     ]
    }
   ],
   "source": [
    "#set X and y (standard sklearn variables) to equal the selected X features and the y response of interest\n",
    "X = df_X[['days_hospitalized', 'services_type_CT Scan', 'initial_admission_type_Emergency Admission', 'services_type_Intravenous']]\n",
    "y = df_y\n",
    "#split the data into train and test sets (80% train/20% test) use stratify to maintain proportions across split\n",
    "X_train, X_test, y_train, y_test = train_test_split(X, y, train_size = 0.8, test_size=0.2, random_state = 42, stratify = y)\n",
    "\n",
    "print(X_train.shape)\n",
    "print(X_test.shape)\n",
    "print(y_train.shape)\n",
    "print(y_test.shape)"
   ]
  },
  {
   "cell_type": "code",
   "execution_count": 118,
   "id": "fb338312-a492-41c7-95bf-54797adc1f52",
   "metadata": {},
   "outputs": [],
   "source": [
    "#save each of the four data sets to CSV files\n",
    "X_train.to_csv('task1_Xtrain.csv', index=False)\n",
    "X_test.to_csv('task1_Xtest.csv', index=False)\n",
    "y_train.to_csv('task1_ytrain.csv', index=False)\n",
    "y_test.to_csv('task1_ytest.csv', index=False)"
   ]
  },
  {
   "cell_type": "code",
   "execution_count": 119,
   "id": "efb14a40-de26-4eb7-b0e5-a3be9916e7b3",
   "metadata": {},
   "outputs": [
    {
     "name": "stdout",
     "output_type": "stream",
     "text": [
      "The best parameters for this model: {'n_neighbors': 11}\n",
      "Mean score: 0.9814536340852131\n"
     ]
    }
   ],
   "source": [
    "#run GridSearchCV to find best number of k\n",
    "param_grid = {'n_neighbors': np.arange(1, 50)}\n",
    "knn = KNeighborsClassifier()\n",
    "knn_cv = GridSearchCV(knn, param_grid)\n",
    "knn_cv.fit(X_train, y_train)\n",
    "print('The best parameters for this model: {}'.format(knn_cv.best_params_))\n",
    "\n",
    "#calculate the mean score (for the best parameter setting found by the GridSearch)\n",
    "mean_score = knn_cv.cv_results_['mean_test_score'][knn_cv.best_index_]\n",
    "print('Mean score: {}'.format(mean_score))"
   ]
  },
  {
   "cell_type": "code",
   "execution_count": 120,
   "id": "00639055-42f7-455f-a225-e8ac200d3ff0",
   "metadata": {},
   "outputs": [
    {
     "name": "stdout",
     "output_type": "stream",
     "text": [
      "              precision    recall  f1-score   support\n",
      "\n",
      "           0       0.98      0.98      0.98      1264\n",
      "           1       0.96      0.97      0.97       732\n",
      "\n",
      "    accuracy                           0.98      1996\n",
      "   macro avg       0.97      0.98      0.98      1996\n",
      "weighted avg       0.98      0.98      0.98      1996\n",
      "\n"
     ]
    }
   ],
   "source": [
    "#perform KNN using the k=11 \n",
    "knn = KNeighborsClassifier(n_neighbors = 11)\n",
    "\n",
    "#fit to the training data\n",
    "knn.fit(X_train, y_train)\n",
    "\n",
    "y_pred = knn.predict(X_test)\n",
    "final_matrix = confusion_matrix(y_test, y_pred)\n",
    "\n",
    "print(classification_report(y_test, y_pred))"
   ]
  },
  {
   "cell_type": "code",
   "execution_count": 121,
   "id": "eddb4ce7-4df5-453a-bb79-46726c798956",
   "metadata": {},
   "outputs": [
    {
     "name": "stdout",
     "output_type": "stream",
     "text": [
      "The accuracy of the model is:  0.9769539078156313\n"
     ]
    }
   ],
   "source": [
    "#print accuracy of the model\n",
    "print(\"The accuracy of the model is: \", knn.score(X_test, y_test))"
   ]
  },
  {
   "cell_type": "code",
   "execution_count": 122,
   "id": "f4780fb4-e144-4d12-b0c4-2750e9f27a40",
   "metadata": {},
   "outputs": [
    {
     "name": "stdout",
     "output_type": "stream",
     "text": [
      "[[1238   26]\n",
      " [  20  712]]\n"
     ]
    }
   ],
   "source": [
    "#print confusion matrix\n",
    "cnf_matrix = confusion_matrix(y_test, y_pred)\n",
    "print(cnf_matrix)"
   ]
  },
  {
   "cell_type": "code",
   "execution_count": 123,
   "id": "8c3dc77d-7f59-4454-9f96-43042cafecd5",
   "metadata": {},
   "outputs": [
    {
     "data": {
      "image/png": "[encoded data removed]",
      "text/plain": [
       "<Figure size 640x480 with 2 Axes>"
      ]
     },
     "metadata": {},
     "output_type": "display_data"
    }
   ],
   "source": [
    "#use seaborn heatmap to visualize the confusion matrix\n",
    "sns.heatmap(pd.DataFrame(cnf_matrix), annot = True, fmt = 'g', cmap='coolwarm')\n",
    "plt.tight_layout()\n",
    "plt.title('Confusion Matrix')\n",
    "plt.ylabel('Actual')\n",
    "plt.xlabel('Predicted')\n",
    "plt.savefig('matrix1.jpg')"
   ]
  },
  {
   "cell_type": "code",
   "execution_count": 124,
   "id": "49296a52-7b44-44b1-8d39-de402b81a032",
   "metadata": {},
   "outputs": [
    {
     "data": {
      "image/png": "[encoded data removed]",
      "text/plain": [
       "<Figure size 640x480 with 1 Axes>"
      ]
     },
     "metadata": {},
     "output_type": "display_data"
    }
   ],
   "source": [
    "#model complexity curve\n",
    "neighbors = np. arange(1, 50)\n",
    "train_accuracy = np.empty (len (neighbors))\n",
    "test_accuracy = np.empty (len (neighbors))\n",
    "\n",
    "#loop over different values of k\n",
    "for i, k in enumerate (neighbors):\n",
    "    \n",
    "#setup a k-NN Classifier with k neighbors: knn\n",
    "    knn = KNeighborsClassifier (n_neighbors=k)\n",
    "\n",
    "#fit the classifier to the training data\n",
    "    knn.fit (X_train,y_train)\n",
    "\n",
    "#compute accuracy on the training set\n",
    "    train_accuracy[i] = knn.score (X_train, y_train)\n",
    "\n",
    "#compute accuracy on the testing set\n",
    "    test_accuracy[i] = knn. score (X_test, y_test)\n",
    "\n",
    "#generate plot\n",
    "plt.title ('k-NN: Varying Number of Neighbors')\n",
    "plt.plot(neighbors, test_accuracy, label = 'Testing Accuracy')\n",
    "plt.plot (neighbors, train_accuracy, label = 'Training Accuracy')\n",
    "plt.legend()\n",
    "plt.xlabel('Number of Neighbors')\n",
    "plt.ylabel('Accuracy')\n",
    "plt.show()"
   ]
  },
  {
   "cell_type": "code",
   "execution_count": 125,
   "id": "4f33ac04-1acc-4c85-af1a-329ecac85b73",
   "metadata": {},
   "outputs": [
    {
     "name": "stdout",
     "output_type": "stream",
     "text": [
      "Train Accuracy: 0.981328320802005 Test Accuracy: 0.9764529058116233\n"
     ]
    }
   ],
   "source": [
    "#print accuracy on train and test sets\n",
    "print(\"Train Accuracy:\", train_accuracy[i], \"Test Accuracy:\", test_accuracy[i])"
   ]
  },
  {
   "cell_type": "code",
   "execution_count": 126,
   "id": "efa1abeb-0a71-4989-9334-9de9803b35bf",
   "metadata": {},
   "outputs": [
    {
     "data": {
      "image/png": "[encoded data removed]",
      "text/plain": [
       "<Figure size 640x480 with 1 Axes>"
      ]
     },
     "metadata": {},
     "output_type": "display_data"
    },
    {
     "name": "stdout",
     "output_type": "stream",
     "text": [
      "The Area Under the Curve (AUC) score is: 0.9971829174448366\n",
      "\n"
     ]
    }
   ],
   "source": [
    "#generate AUC score and print\n",
    "y_pred_prob = knn.predict_proba(X_test)[:, 1]\n",
    "fpr, tpr, thresholds = roc_curve(y_test, y_pred_prob)\n",
    "plt.plot([0, 1], [0, 1], 'k--')\n",
    "plt.plot(fpr, tpr)\n",
    "plt.xlabel('False Positive Rate')\n",
    "plt.ylabel('True Positive Rate')\n",
    "plt.title('ROC Curve for KNN Classification')\n",
    "plt.show()\n",
    "print(f\"The Area Under the Curve (AUC) score is: {roc_auc_score(y_test, y_pred_prob)}\\n\")"
   ]
  }
 ],
 "metadata": {
  "kernelspec": {
   "display_name": "Python 3 (ipykernel)",
   "language": "python",
   "name": "python3"
  },
  "language_info": {
   "codemirror_mode": {
    "name": "ipython",
    "version": 3
   },
   "file_extension": ".py",
   "mimetype": "text/x-python",
   "name": "python",
   "nbconvert_exporter": "python",
   "pygments_lexer": "ipython3",
   "version": "3.12.4"
  }
 },
 "nbformat": 4,
 "nbformat_minor": 5
}
